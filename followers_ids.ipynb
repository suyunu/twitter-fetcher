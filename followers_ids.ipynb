{
 "cells": [
  {
   "cell_type": "markdown",
   "metadata": {},
   "source": [
    "https://dev.twitter.com/rest/reference/get/followers/ids\n",
    "\n",
    "Returns ids of the followers of a user specified by the required user_id or screen_name parameter.\n",
    "\n",
    "1. You need to enter your API credentials to the key list.\n",
    "2. Script outputs the resulting data to followers_ids_out.txt as a csv formatted file"
   ]
  },
  {
   "cell_type": "code",
   "execution_count": 1,
   "metadata": {
    "collapsed": true
   },
   "outputs": [],
   "source": [
    "from birdy.twitter import UserClient, BirdyException \n",
    "from time import sleep\n",
    "import string\n",
    "\n",
    "key = [\n",
    "    [\"Consumer Key\", \"Consumer Secret\", \"Access Token\", \"Access Token Secret\"]\n",
    "]\n",
    "\n",
    "client = UserClient(key[0][0], key[0][1], key[0][2], key[0][3])"
   ]
  },
  {
   "cell_type": "code",
   "execution_count": 4,
   "metadata": {
    "collapsed": false
   },
   "outputs": [],
   "source": [
    "uid = 0\n",
    "sname = ''"
   ]
  },
  {
   "cell_type": "code",
   "execution_count": 5,
   "metadata": {
    "collapsed": false
   },
   "outputs": [],
   "source": [
    "followerIDs = []\n",
    "\n",
    "keyInd = 0\n",
    "client = UserClient(key[keyInd][0], key[keyInd][1], key[keyInd][2], key[keyInd][3])\n",
    "\n",
    "protec = False\n",
    "\n",
    "while(True):\n",
    "    try:\n",
    "        response = client.api.followers.ids.get(user_id = uid, screen_name = sname, count=5000, cursor=-1)\n",
    "        break\n",
    "    except Exception as err:\n",
    "        print(err.status_code)\n",
    "        print(err)\n",
    "        if err.status_code == 429:\n",
    "            sleep(60)\n",
    "            keyInd = (keyInd + 1)%len(key)\n",
    "        else:\n",
    "            protec = True\n",
    "            break\n",
    "        client = UserClient(key[keyInd][0], key[keyInd][1], key[keyInd][2], key[keyInd][3])\n",
    "        \n",
    "if protec:\n",
    "    followerIDs.append([])\n",
    "    print('protected!')\n",
    "else:\n",
    "    ncur = response.data['next_cursor']\n",
    "    for s in response.data['ids']:\n",
    "        followerIDs.append(s)\n",
    "\n",
    "    while(ncur != 0):\n",
    "        while(True):\n",
    "            try:\n",
    "                response = client.api.followers.ids.get(user_id = uid, screen_name = sname, count=5000, cursor=ncur)\n",
    "                break\n",
    "            except Exception as err:\n",
    "                print(err.status_code)\n",
    "                print(err)\n",
    "                if err.status_code == 429:\n",
    "                    sleep(60)\n",
    "                    keyInd = (keyInd + 1)%len(key)\n",
    "                else:\n",
    "                    sleep(15)\n",
    "                client = UserClient(key[keyInd][0], key[keyInd][1], key[keyInd][2], key[keyInd][3])\n",
    "\n",
    "        ncur = response.data['next_cursor']\n",
    "        for s in response.data['ids']:\n",
    "            followerIDs.append(s)"
   ]
  },
  {
   "cell_type": "code",
   "execution_count": 8,
   "metadata": {
    "collapsed": false
   },
   "outputs": [],
   "source": [
    "filename = 'followers_ids_out.txt'\n",
    "f = open(filename, 'w', encoding='utf-8')\n",
    "\n",
    "f.write(str(followerIDs[0]))\n",
    "for ids in followerIDs[1:]:\n",
    "    f.write(',')\n",
    "    f.write(str(ids))\n",
    "\n",
    "f.close()"
   ]
  }
 ],
 "metadata": {
  "anaconda-cloud": {},
  "kernelspec": {
   "display_name": "Python [conda root]",
   "language": "python",
   "name": "conda-root-py"
  },
  "language_info": {
   "codemirror_mode": {
    "name": "ipython",
    "version": 3
   },
   "file_extension": ".py",
   "mimetype": "text/x-python",
   "name": "python",
   "nbconvert_exporter": "python",
   "pygments_lexer": "ipython3",
   "version": "3.5.2"
  }
 },
 "nbformat": 4,
 "nbformat_minor": 2
}
