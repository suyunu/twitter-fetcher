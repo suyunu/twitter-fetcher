{
 "cells": [
  {
   "cell_type": "markdown",
   "metadata": {},
   "source": [
    "https://dev.twitter.com/rest/reference/get/users/lookup\n",
    "\n",
    "Script takes list of user_id s and returns the specified information for each user. Script reads user_id s from \"user_lookup_in.txt\". Before running the script specify your delimeter: ',' (comma), ' ' (space) or '\\n' (new line) as default.\n",
    "\n",
    "user_show is used to retrieve a single user object.\n",
    "\n",
    "There are a few things to note when using this method:\n",
    "\n",
    "* You must be following a protected user to be able to see their most recent status update. If you don’t follow a protected user their status will be removed.\n",
    "* The order of user IDs or screen names may not match the order of users in the returned array.\n",
    "* If a requested user is unknown, suspended, or deleted, then that user will not be returned in the results list.\n",
    "* If none of your lookup criteria can be satisfied by returning a user object, a HTTP 404 will be thrown.\n",
    "\n",
    "1. You need to enter your API credentials to the key list.\n",
    "2. You can specify which info you need to the info list. You can find the name of the returned parameters (id, followers_count etc.) in the link above.\n",
    "3. Script outputs the resulting data to user_lookup_out.txt as a csv formatted file"
   ]
  },
  {
   "cell_type": "code",
   "execution_count": 1,
   "metadata": {
    "collapsed": true
   },
   "outputs": [],
   "source": [
    "from birdy.twitter import UserClient, BirdyException \n",
    "from time import sleep\n",
    "import string\n",
    "\n",
    "key = [\n",
    "    [\"Consumer Key\", \"Consumer Secret\", \"Access Token\", \"Access Token Secret\"]\n",
    "]\n",
    "\n",
    "client = UserClient(key[0][0], key[0][1], key[0][2], key[0][3])"
   ]
  },
  {
   "cell_type": "code",
   "execution_count": 40,
   "metadata": {
    "collapsed": false
   },
   "outputs": [
    {
     "name": "stdout",
     "output_type": "stream",
     "text": [
      "Number of user IDs: 205\n"
     ]
    }
   ],
   "source": [
    "delim = '\\n'\n",
    "\n",
    "f = open('user_lookup_in.txt', 'r', encoding='utf-8')\n",
    "userIDs = f.read().split(delim)\n",
    "f.close()\n",
    "    \n",
    "print('Number of user IDs: ' + str(len(userIDs)))\n",
    "\n",
    "info = [\n",
    "    'id',\n",
    "    'screen_name',\n",
    "    'description',\n",
    "    'followers_count',\n",
    "    'statuses_count'\n",
    "]"
   ]
  },
  {
   "cell_type": "code",
   "execution_count": 42,
   "metadata": {
    "collapsed": false
   },
   "outputs": [],
   "source": [
    "userInfo = []\n",
    "\n",
    "for i in range(int(len(userIDs)/100)+1):\n",
    "    imin = i*100\n",
    "    imax = (i+1)*100\n",
    "    if i == int(len(userIDs)/100):\n",
    "        imax = len(userIDs)\n",
    "    while(True):\n",
    "        try:\n",
    "            response = client.api.users.lookup.get(user_id=userIDs[imin : imax])\n",
    "            for rd in response.data:\n",
    "                tmpInfo = []\n",
    "                for i in info:\n",
    "                    tmpInfo.append(rd[i])\n",
    "                userInfo.append(tmpInfo)\n",
    "            break\n",
    "        except Exception as err:\n",
    "            print(err.status_code)\n",
    "            print(err)\n",
    "            if err.status_code == 429:\n",
    "                sleep(60)\n",
    "                keyInd = (keyInd + 1)%len(key)\n",
    "            else:\n",
    "                break\n",
    "            client = UserClient(key[keyInd][0], key[keyInd][1], key[keyInd][2], key[keyInd][3])"
   ]
  },
  {
   "cell_type": "code",
   "execution_count": 44,
   "metadata": {
    "collapsed": true
   },
   "outputs": [],
   "source": [
    "filename = 'user_lookup_out.txt'\n",
    "f = open(filename, 'w', encoding='utf-8')\n",
    "\n",
    "f.write(str(info[0]))\n",
    "for i in info[1:]:\n",
    "    f.write(',')\n",
    "    f.write(str(i))\n",
    "f.write(\"\\n\")\n",
    "\n",
    "for ui in userInfo:\n",
    "    f.write(str(ui[0]))\n",
    "    for i in ui[1:]:\n",
    "        f.write(',')\n",
    "        f.write(str(i))\n",
    "    f.write(\"\\n\")\n",
    "f.close()"
   ]
  }
 ],
 "metadata": {
  "anaconda-cloud": {},
  "kernelspec": {
   "display_name": "Python [conda root]",
   "language": "python",
   "name": "conda-root-py"
  },
  "language_info": {
   "codemirror_mode": {
    "name": "ipython",
    "version": 3
   },
   "file_extension": ".py",
   "mimetype": "text/x-python",
   "name": "python",
   "nbconvert_exporter": "python",
   "pygments_lexer": "ipython3",
   "version": "3.5.2"
  }
 },
 "nbformat": 4,
 "nbformat_minor": 2
}
