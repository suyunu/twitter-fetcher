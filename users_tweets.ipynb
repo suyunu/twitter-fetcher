{
 "cells": [
  {
   "cell_type": "markdown",
   "metadata": {},
   "source": [
    "https://dev.twitter.com/rest/reference/get/statuses/user_timeline\n",
    "\n",
    "Returns a collection of the most recent Tweets posted by the users indicated by their user_id parameters.\n",
    "\n",
    "1. You need to enter your API credentials to the key list.\n",
    "2. Script takes list of user_id s and returns the specified information for each user. Script reads user_id s from \"user_ids.txt\". Before running the script specify your delimeter: ',' (comma), ' ' (space) or '\\n' (new line) as default.\n",
    "3. Script outputs each user's tweets in a different file named as \"Tweets/USER-ID.txt\". So first you should create a folder named 'Tweets'.\n",
    "4. Also script writes how many tweets has been fetched from a user to \"Tweets/tweetCounter.txt\""
   ]
  },
  {
   "cell_type": "code",
   "execution_count": 2,
   "metadata": {
    "collapsed": true
   },
   "outputs": [],
   "source": [
    "from birdy.twitter import UserClient, BirdyException \n",
    "from time import sleep\n",
    "import string\n",
    "\n",
    "key = [\n",
    "    [\"Consumer Key\", \"Consumer Secret\", \"Access Token\", \"Access Token Secret\"]\n",
    "]\n",
    "\n",
    "client = UserClient(key[0][0], key[0][1], key[0][2], key[0][3])"
   ]
  },
  {
   "cell_type": "code",
   "execution_count": 6,
   "metadata": {
    "collapsed": false
   },
   "outputs": [
    {
     "name": "stdout",
     "output_type": "stream",
     "text": [
      "Number of user IDs: 3\n"
     ]
    }
   ],
   "source": [
    "delim = '\\n'\n",
    "\n",
    "f = open('user_ids.txt', 'r', encoding='utf-8')\n",
    "userIDs = f.read().split(delim)\n",
    "f.close()\n",
    "    \n",
    "print('Number of user IDs: ' + str(len(userIDs)))"
   ]
  },
  {
   "cell_type": "code",
   "execution_count": 11,
   "metadata": {
    "collapsed": false
   },
   "outputs": [
    {
     "name": "stdout",
     "output_type": "stream",
     "text": [
      "0. 3421690924\n",
      "1. 538999832\n",
      "2. 430629984\n"
     ]
    }
   ],
   "source": [
    "i = 0\n",
    "\n",
    "for user in userIDs:\n",
    "    tweetCTR = 0\n",
    "    filename = \"Tweets/\" + user + \".txt\"\n",
    "    f = open(filename, 'w', encoding='utf-8')\n",
    "    \n",
    "    print(str(i) + '. ' + str(user))\n",
    "    protec = False\n",
    "    twe = []\n",
    "    \n",
    "    while(True):\n",
    "        try:\n",
    "            response = client.api.statuses.user_timeline.get(user_id=user, count=200)\n",
    "            break\n",
    "        except Exception as err:\n",
    "            print(err.status_code)\n",
    "            print(err)\n",
    "            if err.status_code == 429:\n",
    "                sleep(60)\n",
    "                keyInd = (keyInd + 1)%len(key)\n",
    "            else:\n",
    "                protec = True\n",
    "                break\n",
    "            \n",
    "            client = UserClient(key[keyInd][0], key[keyInd][1], key[keyInd][2], key[keyInd][3])\n",
    "            \n",
    "    if protec or len(response.data) == 0:\n",
    "        print('protected!')\n",
    "        f.close()\n",
    "        continue\n",
    "        \n",
    "    tweetCTR += len(response.data)\n",
    "    for d in response.data:\n",
    "        twe.append(d['text'])\n",
    "        f.write(d['text'])\n",
    "        f.write(\" \")\n",
    "        \n",
    "    maxID = response.data[-1]['id']\n",
    "    \n",
    "    while(maxID != 0):\n",
    "        while(True):\n",
    "            try:\n",
    "                response = client.api.statuses.user_timeline.get(user_id=user, count=200, max_id = maxID-1)\n",
    "                break\n",
    "            except Exception as err:\n",
    "                print(err.status_code)\n",
    "                print(err)\n",
    "                if err.status_code == 429:\n",
    "                    sleep(60)\n",
    "                    keyInd = (keyInd + 1)%len(key)\n",
    "                else:\n",
    "                    sleep(15)\n",
    "                client = UserClient(key[keyInd][0], key[keyInd][1], key[keyInd][2], key[keyInd][3])\n",
    "        \n",
    "        if len(response.data) == 0:\n",
    "            break\n",
    "        \n",
    "        tweetCTR += len(response.data)\n",
    "        for d in response.data:\n",
    "            twe.append(d['text'])\n",
    "            f.write(d['text'])\n",
    "            f.write(\" \")\n",
    "            \n",
    "        maxID = response.data[-1]['id']\n",
    "            \n",
    "    f.close()\n",
    "    f = open(\"Tweets/tweetCounter.txt\", 'a', encoding='utf-8')\n",
    "    f.write(user + \",\" + str(tweetCTR) + \"\\n\")\n",
    "    f.close()\n",
    "    i += 1"
   ]
  }
 ],
 "metadata": {
  "anaconda-cloud": {},
  "kernelspec": {
   "display_name": "Python [conda root]",
   "language": "python",
   "name": "conda-root-py"
  },
  "language_info": {
   "codemirror_mode": {
    "name": "ipython",
    "version": 3
   },
   "file_extension": ".py",
   "mimetype": "text/x-python",
   "name": "python",
   "nbconvert_exporter": "python",
   "pygments_lexer": "ipython3",
   "version": "3.5.2"
  }
 },
 "nbformat": 4,
 "nbformat_minor": 2
}
