{
 "cells": [
  {
   "cell_type": "markdown",
   "metadata": {},
   "source": [
    "https://dev.twitter.com/rest/reference/get/users/show\n",
    "\n",
    "Returns a variety of information about the user specified by the required user_id or screen_name parameter.\n",
    "\n",
    "1. You need to enter your API credentials to the key list.\n",
    "2. You can specify which info you need to the info list. You can find the name of the returned parameters (id, followers_count etc.) in the link above.\n",
    "3. Script outputs the resulting data to user_show_out.txt as a csv formatted file"
   ]
  },
  {
   "cell_type": "code",
   "execution_count": 1,
   "metadata": {
    "collapsed": true
   },
   "outputs": [],
   "source": [
    "from birdy.twitter import UserClient, BirdyException \n",
    "from time import sleep\n",
    "import string\n",
    "\n",
    "key = [\n",
    "    [\"Consumer Key\", \"Consumer Secret\", \"Access Token\", \"Access Token Secret\"]]\n",
    "\n",
    "client = UserClient(key[0][0], key[0][1], key[0][2], key[0][3])"
   ]
  },
  {
   "cell_type": "code",
   "execution_count": 6,
   "metadata": {
    "collapsed": true
   },
   "outputs": [],
   "source": [
    "uid = 0\n",
    "sname = ''\n",
    "\n",
    "info = [\n",
    "    'id',\n",
    "    'screen_name',\n",
    "    'description',\n",
    "    'followers_count',\n",
    "    'statuses_count'\n",
    "]"
   ]
  },
  {
   "cell_type": "code",
   "execution_count": 7,
   "metadata": {
    "collapsed": false
   },
   "outputs": [
    {
     "name": "stdout",
     "output_type": "stream",
     "text": [
      "[[127805439, 'suyunu', 'Data & Insights Lead @TRTWorld', 462, 3086]]\n"
     ]
    }
   ],
   "source": [
    "userInfo = []\n",
    "\n",
    "try:\n",
    "    response = client.api.users.show.get(user_id=uid, screen_name = sname)\n",
    "    tmpInfo = []\n",
    "    for i in info:\n",
    "        tmpInfo.append(response.data[i])\n",
    "    userInfo.append(tmpInfo)\n",
    "    print(userInfo)\n",
    "except Exception as err:\n",
    "    print(err.status_code)\n",
    "    print(err)"
   ]
  },
  {
   "cell_type": "code",
   "execution_count": 8,
   "metadata": {
    "collapsed": true
   },
   "outputs": [],
   "source": [
    "filename = 'user_show_out.txt'\n",
    "f = open(filename, 'w', encoding='utf-8')\n",
    "\n",
    "f.write(str(info[0]))\n",
    "for i in info[1:]:\n",
    "    f.write(',')\n",
    "    f.write(str(i))\n",
    "f.write(\"\\n\")\n",
    "\n",
    "for ui in userInfo:\n",
    "    f.write(str(ui[0]))\n",
    "    for i in ui[1:]:\n",
    "        f.write(',')\n",
    "        f.write(str(i))\n",
    "    f.write(\"\\n\")\n",
    "f.close()"
   ]
  }
 ],
 "metadata": {
  "anaconda-cloud": {},
  "kernelspec": {
   "display_name": "Python [conda root]",
   "language": "python",
   "name": "conda-root-py"
  },
  "language_info": {
   "codemirror_mode": {
    "name": "ipython",
    "version": 3
   },
   "file_extension": ".py",
   "mimetype": "text/x-python",
   "name": "python",
   "nbconvert_exporter": "python",
   "pygments_lexer": "ipython3",
   "version": "3.5.2"
  }
 },
 "nbformat": 4,
 "nbformat_minor": 2
}
