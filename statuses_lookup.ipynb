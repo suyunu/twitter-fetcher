{
 "cells": [
  {
   "cell_type": "markdown",
   "metadata": {},
   "source": [
    "https://dev.twitter.com/rest/reference/get/statuses/lookup\n",
    "\n",
    "Script takes list of tweet_id s and returns the specified information for the tweets and the user who owns the tweet. Script reads tweet_id s from \"statuses_lookup_in.txt\". Before running the script specify your delimeter: ',' (comma), ' ' (space) or '\\n' (new line) as default.\n",
    "\n",
    "user_show is used to retrieve a single user object.\n",
    "\n",
    "There are a few things to note when using this method:\n",
    "\n",
    "1. You need to enter your API credentials to the key list.\n",
    "2. You can specify which info you need to the info list. You can find the name of the returned parameters (id, followers_count etc.) in the link above.\n",
    "3. Script outputs the resulting data to user_lookup_out.txt as a csv formatted file"
   ]
  },
  {
   "cell_type": "code",
   "execution_count": 79,
   "metadata": {
    "collapsed": true
   },
   "outputs": [],
   "source": [
    "from birdy.twitter import UserClient, BirdyException \n",
    "from time import sleep\n",
    "import string\n",
    "import time\n",
    "\n",
    "key = [\n",
    "    [\"Consumer Key\", \"Consumer Secret\", \"Access Token\", \"Access Token Secret\"]\n",
    "]\n",
    "\n",
    "client = UserClient(key[0][0], key[0][1], key[0][2], key[0][3])"
   ]
  },
  {
   "cell_type": "code",
   "execution_count": 83,
   "metadata": {
    "collapsed": false
   },
   "outputs": [
    {
     "name": "stdout",
     "output_type": "stream",
     "text": [
      "Number of user IDs: 147861\n"
     ]
    }
   ],
   "source": [
    "delim = '\\n'\n",
    "\n",
    "f = open('statuses_lookup_in.txt', 'r', encoding='utf-8')\n",
    "statusIDs = f.read().split(delim)\n",
    "f.close()\n",
    "    \n",
    "print('Number of user IDs: ' + str(len(statusIDs)))\n",
    "\n",
    "sInfo = [\n",
    "    'retweet_count',\n",
    "    'favorite_count'\n",
    "]\n",
    "\n",
    "uInfo = [\n",
    "    'id',\n",
    "    'screen_name',\n",
    "    'description',\n",
    "    'followers_count',\n",
    "    'statuses_count'\n",
    "]"
   ]
  },
  {
   "cell_type": "code",
   "execution_count": null,
   "metadata": {
    "collapsed": false
   },
   "outputs": [],
   "source": [
    "t0 = time.time()\n",
    "\n",
    "statusInfo = []\n",
    "keyInd = 0\n",
    "\n",
    "for i in range(int(len(statusIDs)/100)+1):\n",
    "    print(i)\n",
    "    imin = i*100\n",
    "    imax = (i+1)*100\n",
    "    if i == int(len(statusIDs)/100):\n",
    "        imax = len(statusIDs)\n",
    "    while(True):\n",
    "        try:\n",
    "            response = client.api.statuses.lookup.get(id=statusIDs[imin : imax])\n",
    "            for rd in response.data:\n",
    "                tmpInfo = []\n",
    "                for i in uInfo:\n",
    "                    tmpInfo.append(rd['user'][i])\n",
    "                for i in sInfo:\n",
    "                    tmpInfo.append(rd[i])\n",
    "                statusInfo.append(tmpInfo)\n",
    "            break\n",
    "        except Exception as err:\n",
    "            print(err.status_code)\n",
    "            print(err)\n",
    "            if err.status_code == 429:\n",
    "                sleep(60)\n",
    "                keyInd = (keyInd + 1)%len(key)\n",
    "            else:\n",
    "                break\n",
    "            client = UserClient(key[keyInd][0], key[keyInd][1], key[keyInd][2], key[keyInd][3])\n",
    "    \n",
    "print(time.time() - t0)"
   ]
  },
  {
   "cell_type": "code",
   "execution_count": 76,
   "metadata": {
    "collapsed": false,
    "scrolled": true
   },
   "outputs": [],
   "source": [
    "statusDict = {}\n",
    "userDict = {}\n",
    "\n",
    "for si in statusInfo:\n",
    "    if si[0] not in statusDict:\n",
    "        userDict[si[0]] = si[:5]\n",
    "        statusDict[si[0]] = si[5:] + [1]\n",
    "    else:\n",
    "        statusDict[si[0]][0] += si[5]\n",
    "        statusDict[si[0]][1] += si[6]\n",
    "        statusDict[si[0]][2] += 1"
   ]
  },
  {
   "cell_type": "code",
   "execution_count": 65,
   "metadata": {
    "collapsed": true
   },
   "outputs": [],
   "source": [
    "filename = 'statuses_lookup_desc_out.txt'\n",
    "f = open(filename, 'w', encoding='utf-8')\n",
    "\n",
    "for i in uInfo:\n",
    "    f.write(str(i))\n",
    "    f.write(',')\n",
    "    \n",
    "f.write(str(sInfo[0]))\n",
    "for i in sInfo[1:]:\n",
    "    f.write(',')\n",
    "    f.write(str(i))\n",
    "f.write(',coup_tweets')\n",
    "f.write(\"\\n\")\n",
    "\n",
    "for uid, userInfo in userDict.items():\n",
    "    for ui in userInfo:\n",
    "        f.write(str(ui))\n",
    "        f.write(',')\n",
    "    f.write(str(statusDict[uid][0]))\n",
    "    for si in statusDict[uid][1:]:\n",
    "        f.write(',')\n",
    "        f.write(str(si))\n",
    "    f.write(\"\\n\")\n",
    "f.close()"
   ]
  },
  {
   "cell_type": "code",
   "execution_count": 78,
   "metadata": {
    "collapsed": true
   },
   "outputs": [],
   "source": [
    "#Without Description\n",
    "filename = 'statuses_lookup_out.txt'\n",
    "f = open(filename, 'w', encoding='utf-8')\n",
    "\n",
    "descInd = uInfo.index('description')\n",
    "\n",
    "for i in uInfo:\n",
    "    if i == 'description':\n",
    "        continue\n",
    "    f.write(str(i))\n",
    "    f.write(',')\n",
    "    \n",
    "f.write(str(sInfo[0]))\n",
    "for i in sInfo[1:]:\n",
    "    f.write(',')\n",
    "    f.write(str(i))\n",
    "f.write(',coup_tweets')\n",
    "f.write(\"\\n\")\n",
    "\n",
    "for uid, userInfo in userDict.items():\n",
    "    for i, ui in enumerate(userInfo):\n",
    "        if i == descInd:\n",
    "            continue\n",
    "        f.write(str(ui))\n",
    "        f.write(',')\n",
    "    f.write(str(statusDict[uid][0]))\n",
    "    for si in statusDict[uid][1:]:\n",
    "        f.write(',')\n",
    "        f.write(str(si))\n",
    "    f.write(\"\\n\")\n",
    "f.close()"
   ]
  }
 ],
 "metadata": {
  "anaconda-cloud": {},
  "kernelspec": {
   "display_name": "Python [conda root]",
   "language": "python",
   "name": "conda-root-py"
  },
  "language_info": {
   "codemirror_mode": {
    "name": "ipython",
    "version": 3
   },
   "file_extension": ".py",
   "mimetype": "text/x-python",
   "name": "python",
   "nbconvert_exporter": "python",
   "pygments_lexer": "ipython3",
   "version": "3.5.2"
  }
 },
 "nbformat": 4,
 "nbformat_minor": 2
}
